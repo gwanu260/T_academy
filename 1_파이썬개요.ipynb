{
  "nbformat": 4,
  "nbformat_minor": 0,
  "metadata": {
    "colab": {
      "provenance": [],
      "generative_ai_disabled": true,
      "collapsed_sections": [
        "m5_3jqyRK5mZ",
        "bP_EdhF7K7kx"
      ],
      "authorship_tag": "ABX9TyOTrV9B49g8QkKLeKwy8l67",
      "include_colab_link": true
    },
    "kernelspec": {
      "name": "python3",
      "display_name": "Python 3"
    },
    "language_info": {
      "name": "python"
    }
  },
  "cells": [
    {
      "cell_type": "markdown",
      "metadata": {
        "id": "view-in-github",
        "colab_type": "text"
      },
      "source": [
        "<a href=\"https://colab.research.google.com/github/gwanu260/T_academy/blob/main/1_%ED%8C%8C%EC%9D%B4%EC%8D%AC%EA%B0%9C%EC%9A%94.ipynb\" target=\"_parent\"><img src=\"https://colab.research.google.com/assets/colab-badge.svg\" alt=\"Open In Colab\"/></a>"
      ]
    },
    {
      "cell_type": "markdown",
      "source": [
        "# 개요"
      ],
      "metadata": {
        "id": "m5_3jqyRK5mZ"
      }
    },
    {
      "cell_type": "markdown",
      "source": [
        "## 목적"
      ],
      "metadata": {
        "id": "ajnQtaUkMnXX"
      }
    },
    {
      "cell_type": "markdown",
      "source": [
        "- **인공지능 분야**에서 **가장 많이 사용되는 언어**\n",
        "- 생성형, LLM, 머신러닝/딥러닝에서 주력언어\n",
        "- **AI 학습/활영, 데이터처리, 엔지니어링 수행시 기본적 사용되는 주력언어**"
      ],
      "metadata": {
        "id": "gTJGZESkNCMF"
      }
    },
    {
      "cell_type": "markdown",
      "source": [
        "## 개발환경구축"
      ],
      "metadata": {
        "id": "-JBF_PWaNnvm"
      }
    },
    {
      "cell_type": "markdown",
      "source": [
        "- 로컬(PC기반)\n",
        "  - OS내에 파이썬 설치\n",
        "    -파이썬 공식 홈페이지\n",
        "      - https://www.python.org/\n",
        "      - 현재 번전 : 3.14.0\n",
        "      - 설치간 주의사왕( path 체크(윈도우) )\n",
        "      - 기본 라이브러리만 설치됨(최소)\n",
        "\n",
        "    - 풀패키지 방식\n",
        "      - **아나콘다**\n",
        "        - https://www.anaconda.com/\n",
        "        - GUI / ClI 를 통해서 환경 제공\n",
        "        - 필요한 필수 패키지 기본 탑재\n",
        "        - 써드 파트 툴 연계\n",
        "  \n",
        "      - 미니콘다\n",
        "        - 아나콘다에서 GUI 부분 제거\n",
        "        - 경량\n",
        "        - CLI 기반\n",
        "\n",
        "      - ...\n",
        "\n",
        "    - **도커** 기반 설치\n",
        "      - 가상으로 환경 구성\n",
        "      - OS는 깨끗하게 사용 가능함.\n",
        "\n",
        "- 클라우드 기반\n",
        "  - 파이썬 구동 환경을 **빌려서** 사용\n",
        "    - OS/장치 상관 없음\n",
        "    - **구글의 코랩** .....\n",
        "\n",
        "  - AWS\n",
        "    - Cloud9 => 곧 서비스 종료\n",
        "    - .."
      ],
      "metadata": {
        "id": "Aq5lwaKNNtpN"
      }
    },
    {
      "cell_type": "markdown",
      "source": [
        "## IDE(개발 통합 환경)"
      ],
      "metadata": {
        "id": "2YQYXVbeOSvM"
      }
    },
    {
      "cell_type": "markdown",
      "source": [
        "- 목적\n",
        "  - S/W 개발, CI/CD, 통합관리....\n",
        "\n",
        "- 종류\n",
        "  - 전용 IDE\n",
        "    - 파이참 (인텔리 J)\n",
        "    - https://www.jetbrains.com/pycharm/\n",
        "\n",
        "  - 범용 IDE\n",
        "    - vs code (ms)\n",
        "      - https://code.visualstudio.com/\n",
        "      - 웹에 최적화됨.\n",
        "        - 파이썬 NODE, 타언어, 다른 솔루션 통합 연계 발전 (extentions 을 통해 설치)\n",
        "  - 클라우드\n",
        "    - collab\n",
        "      - ipynb 지원 (ipython + notebook)\n",
        "\n",
        "    - ..."
      ],
      "metadata": {
        "id": "dVI5jukKTWgI"
      }
    },
    {
      "cell_type": "markdown",
      "source": [
        "## 프로그램 스타일"
      ],
      "metadata": {
        "id": "4tGu6v1xQyfq"
      }
    },
    {
      "cell_type": "markdown",
      "source": [
        "# 타입"
      ],
      "metadata": {
        "id": "bP_EdhF7K7kx"
      }
    },
    {
      "cell_type": "markdown",
      "source": [
        "## 기본분류"
      ],
      "metadata": {
        "id": "PublYnavcx2t"
      }
    },
    {
      "cell_type": "markdown",
      "source": [
        "- 정의\n",
        "  - 데이터를 표현하는 (데이터를 담는 그릇)\n",
        "  형식\n",
        "  - 수치(온도, 집값, 주가...)\n",
        "  - 문자열(리뷰, 댓글, 평가, ...)\n",
        "  - 데이터의 형태\n",
        "\n",
        "- 종류\n",
        "  - 단일 데이터형(1개) -> 데이터 자체(본질)\n",
        "    - **수치형**\n",
        "      - (*)정수 : -1, 0, 1\n",
        "      - (*)부동소수 : 3.14\n",
        "      - 복소수\n",
        "    - **문자형**\n",
        "      - 'HELLO'\n",
        "      - \"안녕\"\n",
        "    - 불린형 (이진, 0 or 1)\n",
        "      - True / False\n",
        "    - 바이트형\n",
        "      - 바이너리 데이터\n",
        "\n",
        "  - 컬렉션(1개 이상)\n",
        "    - 데이터가 1개 혹은 그이상 모여서 구성된\n",
        "     타입(n개의 단일데이터가 모여서 구성)\n",
        "    - 종류\n",
        "      - 파이썬\n",
        "        - 문자열\n",
        "          - 단일데이터면서 연속데이터임\n",
        "\n",
        "        - list (리스트)\n",
        "          - 순서 존재 -> 인덱스(순서표기)\n",
        "          존재 -> 정/역방향 인덱스 -> 데이터는 인덱스로 접근, 관리\n",
        "\n",
        "        - dict (딕셔너리)\n",
        "          - 순서 없음 -> 키(고유값)와 값\n",
        "          (데이터)으로 데이터 관리 -> 인덱스 X -> 키를 통해 값 접근 가능\n",
        "\n",
        "        - tuple (튜플)\n",
        "          - 리스트와 거의 동일, 값을 묶는다. 읽기전용(수정x)\n",
        "\n",
        "        - set (집합)\n",
        "          - 중복제거\n",
        "\n",
        "      - 넘파이 (수학 과학용 라이브러리)\n",
        "        - ndarray (배열)\n",
        "        - 고속연산, 수학, 머신/딥러닝등 베이스 기술\n",
        "\n",
        "      - 판다스 (데이터 사이언스 용도)\n",
        "        - Series (1차원)\n",
        "        - DataFrame (2차원)\n",
        "        - 데이터 전처리, eda, 분석 등등\n",
        "\n",
        "      - 딥러닝(파이토치, 텐서플로우 <- 딥러닝엔진(프레임웍) )\n",
        "        - Tensor(텐서)\n",
        "        - 모델 학습, 모델 활용\n",
        "\n",
        "      - 머신러닝, LLM, 생성형모델 등은 위의 자료구 내에서 모두 학습/ 활용...\n",
        "\n",
        "- 기타\n",
        "  - 값이 없다 => 결측 치(데이터)\n",
        "    - 파이썬 : None\n",
        "    - numpy(넘파이) : NaN\n"
      ],
      "metadata": {
        "id": "Cm9Sb-SUWOUk"
      }
    },
    {
      "cell_type": "markdown",
      "source": [
        "## 파이썬 타입 계층구조"
      ],
      "metadata": {
        "id": "YtGx0CIRcm4e"
      }
    },
    {
      "cell_type": "markdown",
      "source": [
        "- None\n",
        "  - 값이 없음\n",
        "- 수치\n",
        "  - 정수 : 정수형, 불린형\n",
        "  - 실수 : 부동소수, 복소수\n",
        "- 시퀀스\n",
        "  - 가변형 : list\n",
        "  - 불변형(수정불가, readonly, immutale) : tuple, 문자열, byte\n",
        "- 집합\n",
        "  - set\n",
        "- 매핑\n",
        "  - dict"
      ],
      "metadata": {
        "id": "xTrcSvGIc4VV"
      }
    },
    {
      "cell_type": "markdown",
      "source": [
        "# 흐름제어"
      ],
      "metadata": {
        "id": "LtQI7y8NK714"
      }
    },
    {
      "cell_type": "markdown",
      "source": [
        "- 목적\n",
        "  - 프로그램의 흐름 제어 -> 특정 목적(기능)제공\n",
        "- 분류 (키워드)\n",
        "  - 조건문\n",
        "    - if, else, elif, end\n",
        "  - 반복문\n",
        "    - 0 ~ 무한대(언제 끝날지 모르겠다) : while\n",
        "    - 지정된(제한된) 회수 반복 : for\n",
        "  - 컨트롤\n",
        "    - continue\n",
        "    - break\n",
        "    - else (반목문에서 사용)\n",
        "\n",
        "- 연산자 기호 (산술, 비교, 논리, ...)\n",
        "  ```\n",
        "    - 산술 : +, -, *, /, %, //, ....\n",
        "    - 비교 : >, <, >=, <=, |=, ==, ...\n",
        "    - 논리 : and, or, not, ...\n",
        "  ```"
      ],
      "metadata": {
        "id": "v8dOsyXGdvMz"
      }
    },
    {
      "cell_type": "markdown",
      "source": [
        "# 절차적 프로그래밍"
      ],
      "metadata": {
        "id": "RH8Ma1WWK8KR"
      }
    },
    {
      "cell_type": "markdown",
      "source": [
        "- 타입, 변수, 흐름제어 => 프로그램 개발(소규모) => 절차적 프로그램 스타일 습득(연습)\n",
        "- 목적:\n",
        "  - 흐름제어 연습\n",
        "  - 로직구성 연습\n",
        "  - 파이썬에 익숙해지는 과정\n",
        "  - 게임"
      ],
      "metadata": {
        "id": "c6l8EAcJvpc7"
      }
    },
    {
      "cell_type": "markdown",
      "source": [
        "# 함수"
      ],
      "metadata": {
        "id": "YFRSz-Z8K8ag"
      }
    },
    {
      "cell_type": "markdown",
      "source": [
        "- 목표\n",
        "  - **프로그램을 효율적 작성, 관리** => 생산성 향상 => 빠르게 구축 가능 => 기업관점에서는 비용 절감, 신규프로젝트시 빠른 초기 구축...\n",
        "  - 절차적 프로그램의 한계 극복하는 방법\n",
        "\n",
        "- 종류\n",
        "  - 내장 함수\n",
        "    - 파이썬이 설치만 되어 있으면 사용가능\n",
        "  - 외장 함수\n",
        "    - 특정 라이브러리(패키지)를 import 하여 사용 => .(도트 연산자)이 잘 보임.\n",
        "  - (*)사용자 정의 함수\n",
        "    - 필요에 의해 개발자가 직접 만든 함수\n",
        "    - 함수 문법 이해 필요\n",
        "    - 고급 함수 문법 -> 필요시 추가\n",
        "      - **람다**\n",
        "      - 제너레이터\n",
        "      - 클로저, 내부/외부 함수 -> **데코레이터**"
      ],
      "metadata": {
        "id": "220rYko0wjsS"
      }
    },
    {
      "cell_type": "markdown",
      "source": [
        "# 함수 지향적 프로그래밍"
      ],
      "metadata": {
        "id": "_DTzqbvRK8r5"
      }
    },
    {
      "cell_type": "markdown",
      "source": [
        "- 기본 프로그램 기법상 트랜드\n",
        "- 절차 지향적 코드 => 마이그레이션 진행(리팩토링 과정진행) => 함수 지향적 코드 변환\n",
        "- 특징\n",
        "```\n",
        "  - 엔트리 포인트(코드의 시작점 구성)\n",
        "\n",
        "  if __name__ == '__main__':\n",
        "    pass\n",
        "```"
      ],
      "metadata": {
        "id": "jFJN-Ed4yJpK"
      }
    },
    {
      "cell_type": "markdown",
      "source": [
        "# 모듈 및 패키지 가져오기"
      ],
      "metadata": {
        "id": "oAWMpdh1K89w"
      }
    },
    {
      "cell_type": "markdown",
      "source": [
        "- 필요성\n",
        "  - 너무 긴 코드는 관리, 효율성 한계 존재함\n",
        "  -> 코드의 재사용성 한계 => 코드별 기능별로 쪼개서(별도 파일로 관리) 관리한다면? => 관리(유지보수등) 유리 => 쪼개진 코드는 어떻게 합쳐서 사용하는가?\n",
        "  - 업무 분장이 가능해짐.\n",
        "\n",
        "  - 모듈화\n",
        "    - 기능별로 별도 파일로 관리\n",
        "    - 구성\n",
        "      - 모듈 : *.py (파이썬 파일)\n",
        "      - 패키지 : 디렉토리(폴더), 하위에는 모듈|패키지 존재함.\n",
        "\n",
        "  - 모듈가져오기\n",
        "    - 해당 모듈을 가져와서 사용\n",
        "    ```\n",
        "      import ~\n",
        "      import ~ from ~\n",
        "    ```"
      ],
      "metadata": {
        "id": "gK8MGfdoy9Rm"
      }
    },
    {
      "cell_type": "markdown",
      "source": [
        "# 예외처리"
      ],
      "metadata": {
        "id": "sh7Va9D2K9Mo"
      }
    },
    {
      "cell_type": "markdown",
      "source": [
        "- 목적\n",
        "  - S/W는 구동시 반드시 중단(셧다운) 되면 안됨. (ex) 웹은 365일 가동)\n",
        "  - 잠재적 버그를 방어(예방) -> 상황 발생 -> 로깅 -> 정상 작동\n",
        "- 특징\n",
        "  - 파이썬(통상 모든 랭귀지)내에 잠재적으로 무조건 발생될 수 있는 **확률이 높은 코드** => **I/O**\n",
        "    - 데이터베이스 연동, 파일 엑세스, 네트워크(통신)\n",
        "  - 표현\n",
        "  ```\n",
        "    try ~\n",
        "    except ~\n",
        "    else ~\n",
        "    finally ~\n",
        "  ```"
      ],
      "metadata": {
        "id": "jZbY9yl-0jx9"
      }
    },
    {
      "cell_type": "markdown",
      "source": [
        "# 클레스, 객체"
      ],
      "metadata": {
        "id": "VaWHhPgkK9eo"
      }
    },
    {
      "cell_type": "markdown",
      "source": [
        "- 특징\n",
        "  - 활용 빈도가 낮을 수 있음.\n",
        "  - gui S/W 기본사용\n",
        "  - 딥러닝시에도 활용\n",
        "  - 생성자, 소멸자, 멤버 함수/ 변수, 클레스 함수/변수, 멤버, ...\n",
        "  - 클레스 단위로 기능 저의, 이를 조립하여\n",
        "  S/W 구성"
      ],
      "metadata": {
        "id": "7iBKA4Nq16n8"
      }
    },
    {
      "cell_type": "markdown",
      "source": [
        "# 객체 지향적 프로그래밍"
      ],
      "metadata": {
        "id": "8usXZ0MCK9xQ"
      }
    },
    {
      "cell_type": "markdown",
      "source": [
        "- 함수지향적 코드 => 객체 지향적 코드 변환\n"
      ],
      "metadata": {
        "id": "auTsxSDG2msj"
      }
    },
    {
      "cell_type": "markdown",
      "source": [
        "# 파이썬 코딩 철학"
      ],
      "metadata": {
        "id": "ELiQDZ9cMFcn"
      }
    },
    {
      "cell_type": "code",
      "source": [
        "import this"
      ],
      "metadata": {
        "colab": {
          "base_uri": "https://localhost:8080/"
        },
        "id": "XagvOkQJ21iy",
        "outputId": "8768896a-61f5-4700-8b9a-e3ca16025cf3"
      },
      "execution_count": null,
      "outputs": [
        {
          "output_type": "stream",
          "name": "stdout",
          "text": [
            "The Zen of Python, by Tim Peters\n",
            "\n",
            "Beautiful is better than ugly.\n",
            "Explicit is better than implicit.\n",
            "Simple is better than complex.\n",
            "Complex is better than complicated.\n",
            "Flat is better than nested.\n",
            "Sparse is better than dense.\n",
            "Readability counts.\n",
            "Special cases aren't special enough to break the rules.\n",
            "Although practicality beats purity.\n",
            "Errors should never pass silently.\n",
            "Unless explicitly silenced.\n",
            "In the face of ambiguity, refuse the temptation to guess.\n",
            "There should be one-- and preferably only one --obvious way to do it.\n",
            "Although that way may not be obvious at first unless you're Dutch.\n",
            "Now is better than never.\n",
            "Although never is often better than *right* now.\n",
            "If the implementation is hard to explain, it's a bad idea.\n",
            "If the implementation is easy to explain, it may be a good idea.\n",
            "Namespaces are one honking great idea -- let's do more of those!\n"
          ]
        }
      ]
    }
  ]
}