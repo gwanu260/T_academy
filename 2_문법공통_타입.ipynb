{
  "nbformat": 4,
  "nbformat_minor": 0,
  "metadata": {
    "colab": {
      "provenance": [],
      "toc_visible": true,
      "collapsed_sections": [
        "2lhyHupIH9th"
      ],
      "authorship_tag": "ABX9TyPgF5qXrluW9CTrzdyL5Rad",
      "include_colab_link": true
    },
    "kernelspec": {
      "name": "python3",
      "display_name": "Python 3"
    },
    "language_info": {
      "name": "python"
    }
  },
  "cells": [
    {
      "cell_type": "markdown",
      "metadata": {
        "id": "view-in-github",
        "colab_type": "text"
      },
      "source": [
        "<a href=\"https://colab.research.google.com/github/gwanu260/T_academy/blob/main/2_%EB%AC%B8%EB%B2%95%EA%B3%B5%ED%86%B5_%ED%83%80%EC%9E%85.ipynb\" target=\"_parent\"><img src=\"https://colab.research.google.com/assets/colab-badge.svg\" alt=\"Open In Colab\"/></a>"
      ]
    },
    {
      "cell_type": "markdown",
      "source": [
        "# 문법 공통\n"
      ],
      "metadata": {
        "id": "uQ-CF30X4RxI"
      }
    },
    {
      "cell_type": "markdown",
      "source": [
        "## 주석"
      ],
      "metadata": {
        "id": "kyVAEOGA4lFw"
      }
    },
    {
      "cell_type": "markdown",
      "source": [
        "- 명칭\n",
        "  - 코멘트, comment\n",
        "  - 코드에 관한 설명, 개발자의 멘트\n",
        "  - 주석작성 -> ai가 해석 -> 코드를 추천(통상 ai 코파일럿 지원 에디터 특징)\n",
        "  - 메타 정보 기술\n",
        "    - 작성자, 작성일, 이메일, 사용법, 목적\n",
        "    - 개발완료후 => 문서 작성에 활용 (향후 자동화 처리 스웨거등 사용)\n",
        "\n",
        "- 문법\n",
        "  ```\n",
        "  # 1줄 주석\n",
        "\n",
        "    '''\n",
        "      여러줄 주석.\n",
        "      여러줄 문자열 표현하는 방식\n",
        "      - 함수, 클레스 내부 첫줄에 표기 자동 팝업 표시되는 주석으로 처리됨\n",
        "    '''\n",
        "\n",
        "    \"\"\"\n",
        "      위와 동일함\n",
        "    \"\"\"\n",
        "\n",
        "  ```\n"
      ],
      "metadata": {
        "id": "facvqnzM4_Fn"
      }
    },
    {
      "cell_type": "code",
      "source": [
        "# 함수 내부 주석 샘플\n",
        "def add ( x, y ):\n",
        "  \"\"\"\n",
        "    더하기 함수\n",
        "      - x : 첫번째 입력값\n",
        "      - y : 두번째 입력값\n",
        "    returns\n",
        "      - x + y 더한 값을 반환\n",
        "  \"\"\"\n",
        "\n",
        "  return x + y\n",
        "\n",
        "# 함수명 까지 작성하면 자동 출팁이 구동됨.\n",
        "add()"
      ],
      "metadata": {
        "colab": {
          "base_uri": "https://localhost:8080/",
          "height": 109
        },
        "id": "fucn5kwJ9lhq",
        "outputId": "44d18264-4109-4f7c-ea67-1c6f16083528"
      },
      "execution_count": null,
      "outputs": [
        {
          "output_type": "error",
          "ename": "SyntaxError",
          "evalue": "invalid syntax (ipython-input-1636824299.py, line 3)",
          "traceback": [
            "\u001b[0;36m  File \u001b[0;32m\"/tmp/ipython-input-1636824299.py\"\u001b[0;36m, line \u001b[0;32m3\u001b[0m\n\u001b[0;31m    ```\u001b[0m\n\u001b[0m    ^\u001b[0m\n\u001b[0;31mSyntaxError\u001b[0m\u001b[0;31m:\u001b[0m invalid syntax\n"
          ]
        }
      ]
    },
    {
      "cell_type": "code",
      "source": [
        "# 코멘트, 코드에 영향 X, 코드작성시 같이 구성하는 것은 습관화 중요"
      ],
      "metadata": {
        "id": "mBQHtV-D-sAv"
      },
      "execution_count": null,
      "outputs": []
    },
    {
      "cell_type": "markdown",
      "source": [
        "## 변수"
      ],
      "metadata": {
        "id": "Q5I7mFoa4psn"
      }
    },
    {
      "cell_type": "markdown",
      "source": [
        "- 목적\n",
        "  - 데이터를 담는 그릇 (기초적 해석)\n",
        "  - 데이터를 가르키는 참조값을 가진 그릇\n",
        "\n",
        "- 특징\n",
        "  - 변수가 가진(참조하는) 데이터는 변경(다른값으로 대체)될 수 있다.\n",
        "    - 유형 => 모두 문제 없음\n",
        "      - 1 -> 2\n",
        "        - 정수값에서 정수값으로 변경(동일타입)\n",
        "      - 1 -> \"Hi\"\n",
        "        - 정수값에서 문자열으로 변경(다른타입)\n",
        "  \n",
        "  - 변수에는 기존값에서 어떤 타입으로도 변경 가능함.!! => 예약어 주의!!"
      ],
      "metadata": {
        "id": "NDB4aREb_PxJ"
      }
    },
    {
      "cell_type": "code",
      "source": [
        "# 1이라는 값을 a라는 변수(그릇)에 담았다(초보적해석)\n",
        "# a라는 변수는 1이라는 값(메모리상 어딘가 존재함)을 가르킨다(참조한다) : 정확한해석\n",
        "a = 1\n",
        "\n",
        "a\n",
        "#파이썬의 모든 구성은 객체로 구성되어있다. => 변수명. => 자동완성뜨면 확인됨"
      ],
      "metadata": {
        "id": "S_m75We6AKnd"
      },
      "execution_count": null,
      "outputs": []
    },
    {
      "cell_type": "code",
      "source": [
        "# a는 이제부터 2를 가르킨다(참조)\n",
        "a = 2\n",
        "\n",
        "a"
      ],
      "metadata": {
        "colab": {
          "base_uri": "https://localhost:8080/"
        },
        "id": "w_pqISMkAxCx",
        "outputId": "bf82c796-5d1c-4df3-c9a2-df20502e6a0f"
      },
      "execution_count": null,
      "outputs": [
        {
          "output_type": "stream",
          "name": "stdout",
          "text": [
            "2\n"
          ]
        }
      ]
    },
    {
      "cell_type": "code",
      "source": [
        "a = 10\n",
        "\n",
        "print( a, type(a) ) # a값, a의 타입 출력\n",
        "\n",
        "\n",
        "a = 'hello'\n",
        "\n",
        "print( a, type(a) ) # a값, a의 타입 출력"
      ],
      "metadata": {
        "colab": {
          "base_uri": "https://localhost:8080/"
        },
        "id": "NS4XW_MtBY-K",
        "outputId": "83247fdf-6000-499a-e766-711f8116d05f"
      },
      "execution_count": null,
      "outputs": [
        {
          "output_type": "stream",
          "name": "stdout",
          "text": [
            "10 <class 'int'>\n",
            "hello <class 'str'>\n"
          ]
        }
      ]
    },
    {
      "cell_type": "markdown",
      "source": [
        "- 결론\n",
        "  - 파이썬의 변수의 타입은 값이 세팅될때 결정된다.\n",
        "  - **타입 추론형**\n",
        "    - python, javascript... <-> c/c++/java, typescript, .. : 변수 선언시 타입결정\n",
        "\n",
        "  - 참고\n",
        "    ```\n",
        "      # 파이썬\n",
        "      a = 1\n",
        "\n",
        "      # JS\n",
        "      var a = 1\n",
        "      let a = 1\n",
        "\n",
        "      # java\n",
        "      int a = 1\n",
        "      ```"
      ],
      "metadata": {
        "id": "tw3dyMM8CJ6M"
      }
    },
    {
      "cell_type": "markdown",
      "source": [
        "## 상수"
      ],
      "metadata": {
        "id": "Np_yc4Qs4sA_"
      }
    },
    {
      "cell_type": "markdown",
      "source": [
        "- 변수의 반대 개념, 고정값\n",
        "  - 파이썬 상수 x\n",
        "- 상수처럼 사용\n",
        "  - 변수명을 대문자 표기 (관습적 표현)\n",
        "  - 의미론적임, 실제는 변수임\n",
        "  - 용도\n",
        "    - 환경변수, 학습시 고정값"
      ],
      "metadata": {
        "id": "i8ihJdboD9IJ"
      }
    },
    {
      "cell_type": "code",
      "source": [
        "PI = 3.14\n",
        "MAX_POOL_SIZE = 4"
      ],
      "metadata": {
        "id": "c38P8jDtEe_L"
      },
      "execution_count": null,
      "outputs": []
    },
    {
      "cell_type": "markdown",
      "source": [
        "## 리터럴"
      ],
      "metadata": {
        "id": "OvLuvpBw4xef"
      }
    },
    {
      "cell_type": "markdown",
      "source": [
        "- 타입의 기본값(시그니처 표현)\n",
        "- 숫자 리터럴\n",
        "  - 0(10진수), 0b(2진수), 0o(8진수), 0x(16진수)\n",
        "- 문자열 리터럴\n",
        "  - '', \"\", ''' ... ''', \"\"\" ... \"\"\"\n",
        "- 불린 리터럴\n",
        "  - True, False\n",
        "- 특수 리터럴\n",
        "  - None, NaN\n",
        "- 컬렉션 리터럴\n",
        "  - list, dict, tuple, set\n",
        "  - [],   {},   (,),   {}\n",
        "\n",
        "- 위의 모든 리터럴중 True를 제외한 모든 값은 조건식으로 단독 사용시 무조건 False로 해석"
      ],
      "metadata": {
        "id": "nll9MI0cE0KC"
      }
    },
    {
      "cell_type": "markdown",
      "source": [
        "## 네이밍컨벤션\n"
      ],
      "metadata": {
        "id": "jslIaABi40KI"
      }
    },
    {
      "cell_type": "markdown",
      "source": [
        "- 관습(절대적 규칙은 아님)\n",
        "- 이름 짓는 규칙\n",
        "- 대상\n",
        "  - 변수명, 함수명, 클레스명\n",
        "- 스타일\n",
        "  - **스네이크 케이스**\n",
        "    - 파이썬\n",
        "    - 단어간 **_(언더스코어 or 언더바)**로 연결\n",
        "    - your_name\n",
        "    - 소문자로 나열후 _ 로 연결\n",
        "  - 카멜 표기법 (참고용)\n",
        "    - 자바\n",
        "    - 첫글자 소문자, 이어지는 단어의 첫글자 대문자, 나머지는 모두 소문자\n",
        "    - yourName\n",
        "    - 파이썬의 클레스명은 관습을 따름(대체적)\n"
      ],
      "metadata": {
        "id": "nBcX0VTzGVIe"
      }
    },
    {
      "cell_type": "markdown",
      "source": [
        "- 이름 구성\n",
        "  - 첫글자\n",
        "    - 알파벳(각국 문자 OK), _만(특수표현시) 사용가능\n",
        "    사용가능\n",
        "    - 두번째 문자\n",
        "      - 숫자 추가됨\n",
        "    - 특수문자는 배제(안되는 것이 대부분)\n"
      ],
      "metadata": {
        "id": "mAgqooMfHkZ_"
      }
    },
    {
      "cell_type": "code",
      "source": [
        "a = 1\n",
        "_ = 2\n",
        "a10 = 3\n",
        "\n",
        "#1a = 100"
      ],
      "metadata": {
        "id": "aXfurNIoIFjY"
      },
      "execution_count": null,
      "outputs": []
    },
    {
      "cell_type": "markdown",
      "source": [
        "## statement(표현식) 끝표식"
      ],
      "metadata": {
        "id": "2lhyHupIH9th"
      }
    },
    {
      "cell_type": "markdown",
      "source": [
        "- 완전한 코드 한줄이 완성되면 표현하는 표식\n",
        "  - 다른 언어들은 통상 ```;``` 를 붙임\n",
        "  - 파이썬은 생략 OK, 사용 OK\n",
        "    - 통상적으로는 생략\n",
        "    - 한줄에 여러개의 statement가 존재하면 구분용으로 사용\n"
      ],
      "metadata": {
        "id": "C0s7oe3eLgmU"
      }
    },
    {
      "cell_type": "code",
      "source": [
        "print(1);print(2);print(3)"
      ],
      "metadata": {
        "colab": {
          "base_uri": "https://localhost:8080/"
        },
        "id": "K434AO4cL7Zt",
        "outputId": "06fc26e4-0c84-420c-807c-df9db5521814"
      },
      "execution_count": null,
      "outputs": [
        {
          "output_type": "stream",
          "name": "stdout",
          "text": [
            "1\n",
            "2\n",
            "3\n"
          ]
        }
      ]
    },
    {
      "cell_type": "markdown",
      "source": [
        "# 단일 데이터형"
      ],
      "metadata": {
        "id": "70YDU6MG4SVY"
      }
    },
    {
      "cell_type": "markdown",
      "source": [
        "## 수치형"
      ],
      "metadata": {
        "id": "tXq8LemcMSYb"
      }
    },
    {
      "cell_type": "markdown",
      "source": [
        "### 정수형 : int(타입명)"
      ],
      "metadata": {
        "id": "CTpBMK3iMjnE"
      }
    },
    {
      "cell_type": "markdown",
      "source": [
        "- ... -1, 0, 1, ...\n",
        "- 값의 간격(step)은 1\n",
        "- 데이터 예시\n",
        "  - 나이, 리뷰평점( 1 ~ 5 )"
      ],
      "metadata": {
        "id": "r7n3eG0nND8d"
      }
    },
    {
      "cell_type": "code",
      "source": [
        "# 변수명은 가급적 의미 있게 묘사\n",
        "# 수치값은 10진수 활용(해석하기 쉽게, 특수상황에서는 진법 활용)\n",
        "age = 100\n",
        "age"
      ],
      "metadata": {
        "id": "9Xyi_mm5NgoF"
      },
      "execution_count": null,
      "outputs": []
    },
    {
      "cell_type": "code",
      "source": [
        "# 진법 예시\n",
        "a1 = 0b1010101010 # 2진법, 0과 1로만 모든수를 표현\n",
        "a2 = 0o512 # 8진법 0과 7로만 표현\n",
        "a3 = 0xff # 16진법 0과 9, a ~ f를 활용하여 수를 표현\n",
        "\n",
        "a1, a2 , a3"
      ],
      "metadata": {
        "colab": {
          "base_uri": "https://localhost:8080/"
        },
        "id": "pc-Q9W2yNvUd",
        "outputId": "c62e0806-596f-47cb-fee1-3e77fcbeeda1"
      },
      "execution_count": null,
      "outputs": [
        {
          "output_type": "execute_result",
          "data": {
            "text/plain": [
              "(682, 330, 255)"
            ]
          },
          "metadata": {},
          "execution_count": 7
        }
      ]
    },
    {
      "cell_type": "markdown",
      "source": [
        "### 부동소수 : float(타입명)"
      ],
      "metadata": {
        "id": "Gw852QCDM1yU"
      }
    },
    {
      "cell_type": "markdown",
      "source": [
        "- ... 0.0 ...\n",
        "- 값과 값사이의 간격 : 무한대의 수 존재, 연속형\n",
        "- 데이터 예시\n",
        "  - 키, 몸무게, ..."
      ],
      "metadata": {
        "id": "GaHwstpeO79V"
      }
    },
    {
      "cell_type": "code",
      "source": [
        "# 기본 표현\n",
        "a = 1.1 # 정수부, 소수부 구성\n",
        "\n",
        "a, type(a)"
      ],
      "metadata": {
        "colab": {
          "base_uri": "https://localhost:8080/"
        },
        "id": "O5nDt-esPOb2",
        "outputId": "2538a367-5e07-4103-d3d4-aaaa5736b989"
      },
      "execution_count": null,
      "outputs": [
        {
          "output_type": "execute_result",
          "data": {
            "text/plain": [
              "(1.1, float)"
            ]
          },
          "metadata": {},
          "execution_count": 9
        }
      ]
    },
    {
      "cell_type": "markdown",
      "source": [
        "###복소수(생략)"
      ],
      "metadata": {
        "id": "Qj0QohluM5X8"
      }
    },
    {
      "cell_type": "markdown",
      "source": [
        "### 기타(번외)"
      ],
      "metadata": {
        "id": "g0HwiJnSPjcF"
      }
    },
    {
      "cell_type": "code",
      "source": [
        "# 변수를 나열하면 반대쪽에도 같은수로 배치\n",
        "# 여러개의 변수를 한번에 초기화 가능함\n",
        "a, b, c = 10, 11, 12\n",
        "\n",
        "a, b, c"
      ],
      "metadata": {
        "colab": {
          "base_uri": "https://localhost:8080/"
        },
        "id": "V2eFa8f6Pyt1",
        "outputId": "61c4988f-a38d-49fc-9b76-4d901b5c5309"
      },
      "execution_count": null,
      "outputs": [
        {
          "output_type": "execute_result",
          "data": {
            "text/plain": [
              "(10, 11, 12)"
            ]
          },
          "metadata": {},
          "execution_count": 10
        }
      ]
    },
    {
      "cell_type": "code",
      "source": [
        "# 위코드와 아래 코드는 같음 => 수를 나열하면 튜플로 묶음(단순 묶기)\n",
        "# 값을 순서대로 분해하여 순서대로 초기화함\n",
        "# 아래 표현 말고, 함수의 return 뒤에서도 동일하게 작동됨\n",
        "a, b, c = {10, 11, 12}\n",
        "\n",
        "a, b, c"
      ],
      "metadata": {
        "id": "N9EiOfgbQDyP"
      },
      "execution_count": null,
      "outputs": []
    },
    {
      "cell_type": "code",
      "source": [
        "# a 는 10을 받고, 나머지 11, 12는 필요 없다, 이런상황이라면\n",
        "# _ 변수명 활용 => 받고 버리기 용도\n",
        "# 3개의 값이 무조건 오른쪽에 배치된다면(통상 함수일때)\n",
        "a, _, _ = 10, 11, 12\n",
        "\n",
        "a"
      ],
      "metadata": {
        "colab": {
          "base_uri": "https://localhost:8080/"
        },
        "id": "AdjJ-cxMQzSl",
        "outputId": "6eb14138-6bf8-4754-f93c-3a82e8461f44"
      },
      "execution_count": null,
      "outputs": [
        {
          "output_type": "execute_result",
          "data": {
            "text/plain": [
              "10"
            ]
          },
          "metadata": {},
          "execution_count": 12
        }
      ]
    },
    {
      "cell_type": "code",
      "source": [
        "_, b, _ = 10, 11, 12\n",
        "\n",
        "a"
      ],
      "metadata": {
        "colab": {
          "base_uri": "https://localhost:8080/"
        },
        "id": "WB7ms2M6RSE2",
        "outputId": "2fc9f207-df05-43ec-b9fb-2ad057b69e21"
      },
      "execution_count": null,
      "outputs": [
        {
          "output_type": "execute_result",
          "data": {
            "text/plain": [
              "10"
            ]
          },
          "metadata": {},
          "execution_count": 11
        }
      ]
    },
    {
      "cell_type": "code",
      "source": [
        "# 일반적인 연산 확인\n",
        "a = 1\n",
        "b = 2\n",
        "\n",
        "# 더하기, 빼기, 곱하기, 나누기(결과물이 float), 나머지, 몫\n",
        "a + b, a - b, a * b, a / b, a % b, a // b"
      ],
      "metadata": {
        "colab": {
          "base_uri": "https://localhost:8080/"
        },
        "id": "MkvYotqRRfUm",
        "outputId": "8c23f61e-c527-443a-b77c-f790a909c293"
      },
      "execution_count": null,
      "outputs": [
        {
          "output_type": "execute_result",
          "data": {
            "text/plain": [
              "(3, -1, 2, 0.5, 1, 0)"
            ]
          },
          "metadata": {},
          "execution_count": 13
        }
      ]
    },
    {
      "cell_type": "code",
      "source": [
        "4/2, 4%3, 4//2"
      ],
      "metadata": {
        "colab": {
          "base_uri": "https://localhost:8080/"
        },
        "id": "RQfHojqLR8UF",
        "outputId": "4f41990f-df8f-47ec-ca1c-9bac22a49052"
      },
      "execution_count": null,
      "outputs": [
        {
          "output_type": "execute_result",
          "data": {
            "text/plain": [
              "(2.0, 1, 2)"
            ]
          },
          "metadata": {},
          "execution_count": 14
        }
      ]
    },
    {
      "cell_type": "markdown",
      "source": [
        "## 문자열"
      ],
      "metadata": {
        "id": "Zt5rC2RqMVhL"
      }
    },
    {
      "cell_type": "markdown",
      "source": [
        "- 자연어 데이터\n",
        "  - 자연어 => 가공절차(토큰화, 인코딩과정) => 수치로 표현(AI관점)\n",
        "- 단일 데이터형이면서 연속 데이터 형(컬렉션)\n",
        "- 텍스트 데이터, 로그, ...\n",
        "- 수정불가(문자열 타입으로 할당된 이후)\n",
        "  - 원본수정 x\n",
        "  - 원본카피 -> 수정 -> 새로할당 : 이런 과정으로 제공\n",
        "- 기호\n",
        "  - 한줄\n",
        "    ```\n",
        "      \" ... \"\n",
        "      ' ... '\n",
        "    ```\n",
        "  - 여러줄 : 주석, 구조유지, 여러줄원본, LMM사용시 프롬프트엔지니어링(제로샷, 원샷, 퓨삿)때 사용\n",
        "    ```\n",
        "      '''\n",
        "        ...\n",
        "      '''\n",
        "      or (아래는 예시)\n",
        "      \"\"\"\n",
        "        select *\n",
        "        from users\n",
        "        where uid='k' and upw='1234'\n",
        "      \"\"\"\n",
        "    ```"
      ],
      "metadata": {
        "id": "zEcm5LH-TwW1"
      }
    },
    {
      "cell_type": "markdown",
      "source": [
        "### 기본다루기"
      ],
      "metadata": {
        "id": "1h1LSvFRVSf9"
      }
    },
    {
      "cell_type": "code",
      "source": [
        "# 한줄 문자열\n",
        "a = 'abcd ABCD 1234 !@#$ 가나다라'\n",
        "\n",
        "a , type(a)"
      ],
      "metadata": {
        "colab": {
          "base_uri": "https://localhost:8080/",
          "height": 35
        },
        "id": "Aj2vWNy6ValY",
        "outputId": "ebc280f5-182a-4450-e3b9-2c05c8ba40cf"
      },
      "execution_count": null,
      "outputs": [
        {
          "output_type": "execute_result",
          "data": {
            "text/plain": [
              "'abcd ABCD 1234 !@#$ 가나다라'"
            ],
            "application/vnd.google.colaboratory.intrinsic+json": {
              "type": "string"
            }
          },
          "metadata": {},
          "execution_count": 15
        }
      ]
    },
    {
      "cell_type": "code",
      "source": [
        "## 여러줄 문자열\n",
        "a = \"\"\"\n",
        "    select *\n",
        "    from users\n",
        "    where uid='k' and upw='1234'\n",
        "\"\"\"\n",
        "print ( a, type(a) )"
      ],
      "metadata": {
        "colab": {
          "base_uri": "https://localhost:8080/"
        },
        "id": "k-dSOB-VV7jr",
        "outputId": "1cc079d2-a32b-4e45-fae4-119e4643fcd0"
      },
      "execution_count": null,
      "outputs": [
        {
          "output_type": "stream",
          "name": "stdout",
          "text": [
            "\n",
            "    select *\n",
            "    from users\n",
            "    where uid='k' and upw='1234'\n",
            " <class 'str'>\n"
          ]
        }
      ]
    },
    {
      "cell_type": "markdown",
      "source": [
        "## 불린형"
      ],
      "metadata": {
        "id": "YaxZpWhTMXIN"
      }
    },
    {
      "cell_type": "markdown",
      "source": [
        "## 바이트형(생략)"
      ],
      "metadata": {
        "id": "ZhWMuXTfMcCV"
      }
    },
    {
      "cell_type": "markdown",
      "source": [
        "# 컬렉션 유형"
      ],
      "metadata": {
        "id": "i9CXX0CP4Smg"
      }
    }
  ]
}